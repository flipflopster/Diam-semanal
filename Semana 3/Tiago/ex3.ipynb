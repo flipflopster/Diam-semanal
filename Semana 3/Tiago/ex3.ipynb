{
 "cells": [
  {
   "cell_type": "code",
   "execution_count": 2,
   "id": "initial_id",
   "metadata": {
    "collapsed": true,
    "ExecuteTime": {
     "end_time": "2024-02-28T19:48:19.493781Z",
     "start_time": "2024-02-28T19:48:19.486030Z"
    }
   },
   "outputs": [
    {
     "name": "stdout",
     "output_type": "stream",
     "text": [
      "Dizendo realmente o que é que eu acho\n",
      "Isso me deixa triste e cabisbaixo\n",
      "O poema contem a palavra samba =  9\n",
      "O poema contem vogais =  33\n"
     ]
    }
   ],
   "source": [
    "    poema = ('Eu hoje fiz um samba bem pra frente / Dizendo realmente o que é que eu acho / Eu acho que o meu samba é '\n",
    "             'uma corrente / E coerentemente assino embaixo / Hoje é preciso refletir um pouco / E ver que o samba '\n",
    "             'está tomando jeito / Só mesmo embriagado ou muito louco / Pra contestar e pra botar defeito / Precisa '\n",
    "             'ser muito sincero e claro / Pra confessar que andei sambando errado / Talvez precise até tomar na cara '\n",
    "             '/ Pra ver que o samba está bem melhorado / Tem mais é que ser bem cara de tacho / Não ver a multidão '\n",
    "             'sambar contente / Isso me deixa triste e cabisbaixo / Por isso eu fiz um samba bem pra frente / Dizendo '\n",
    "             'realmente o que é que eu acho / Eu acho que o meu samba é uma corrente / E coerentemente assino embaixo '\n",
    "             '/ Hoje é preciso refletir um pouco / E ver que o samba está tomando jeito / Só mesmo embriagado ou '\n",
    "             'muito louco / Pra contestar e pra botar defeito / Precisa ser muito sincero e claro / Pra confessar que '\n",
    "             'andei sambando errado / Talvez precise até tomar na cara / Pra ver que o samba está bem melhorado / Tem '\n",
    "             'mais é que ser bem cara de tacho / Não ver a multidão sambar contente / Isso me deixa triste e '\n",
    "             'cabisbaixo')\n",
    "\n",
    "    poemaList = poema.split(\" / \")\n",
    "    poemaList.extend((\"Por isso eu fiz um samba bem pra frente\", \"Dizendo realmente o que é que eu acho\",\n",
    "                      \"Isso me deixa triste e cabisbaixo\"))\n",
    "    print(poemaList[-2])\n",
    "    print(poemaList[-1])\n",
    "\n",
    "    a = 0\n",
    "    b = 0\n",
    "    for i in range(len(poemaList)):\n",
    "        if \" samba \" in poemaList[i].lower():\n",
    "            a += 1\n",
    "        if \"a\" or \"e\" or \"i\" or \"o\" or \"u\" in poemaList[i].lower():\n",
    "            b += 1\n",
    "\n",
    "    print(\"O poema contem a palavra samba = \", a)\n",
    "    print(\"O poema contem vogais = \", b)"
   ]
  },
  {
   "cell_type": "code",
   "outputs": [
    {
     "name": "stdout",
     "output_type": "stream",
     "text": [
      "['Eu hoje fiz um samba bem pra frente', 'Dizendo realmente o que é que eu acho', 'Eu acho que o meu samba é uma corrente', 'E coerentemente assino embaixo', 'Hoje é preciso refletir um pouco', 'E ver que o samba está tomando jeito', 'Só mesmo embriagado ou muito louco', 'Pra contestar e pra botar defeito', 'Precisa ser muito sincero e claro', 'Pra confessar que andei sambando errado', 'Talvez precise até tomar na cara', 'Pra ver que o samba está bem melhorado', 'Tem mais é que ser bem cara de tacho', 'Não ver a multidão sambar contente', 'Isso me deixa triste e cabisbaixo', 'Por isso eu fiz um samba bem pra frente', 'Dizendo realmente o que é que eu acho', 'Eu acho que o meu samba é uma corrente', 'E coerentemente assino embaixo', 'Hoje é preciso refletir um pouco', 'E ver que o samba está tomando jeito', 'Só mesmo embriagado ou muito louco', 'Pra contestar e pra botar defeito', 'Precisa ser muito sincero e claro', 'Pra confessar que andei sambando errado', 'Talvez precise até tomar na cara', 'Pra ver que o samba está bem melhorado', 'Tem mais é que ser bem cara de tacho', 'Não ver a multidão sambar contente', 'Isso me deixa triste e cabisbaixo', 'Por isso eu fiz um samba bem pra frente', 'Dizendo realmente o que é que eu acho', 'Isso me deixa triste e cabisbaixo']\n"
     ]
    }
   ],
   "source": [],
   "metadata": {
    "collapsed": false,
    "ExecuteTime": {
     "end_time": "2024-02-28T19:48:57.401880Z",
     "start_time": "2024-02-28T19:48:57.396626Z"
    }
   },
   "id": "db56e3e82cb89717",
   "execution_count": 3
  }
 ],
 "metadata": {
  "kernelspec": {
   "display_name": "Python 3",
   "language": "python",
   "name": "python3"
  },
  "language_info": {
   "codemirror_mode": {
    "name": "ipython",
    "version": 2
   },
   "file_extension": ".py",
   "mimetype": "text/x-python",
   "name": "python",
   "nbconvert_exporter": "python",
   "pygments_lexer": "ipython2",
   "version": "2.7.6"
  }
 },
 "nbformat": 4,
 "nbformat_minor": 5
}
