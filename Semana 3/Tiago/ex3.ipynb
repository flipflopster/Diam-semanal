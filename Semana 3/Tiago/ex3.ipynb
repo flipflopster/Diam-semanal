{
 "cells": [
  {
   "cell_type": "markdown",
   "source": [
    "Exercicio 3.1"
   ],
   "metadata": {
    "collapsed": false
   },
   "id": "f4727d471195ea1c"
  },
  {
   "cell_type": "code",
   "outputs": [
    {
     "name": "stdout",
     "output_type": "stream",
     "text": [
      "Eu hoje fiz um samba bem pra frente\n",
      "Dizendo realmente o que é que eu acho\n",
      "Eu acho que o meu samba é uma corrente\n",
      "E coerentemente assino embaixo\n",
      "Hoje é preciso refletir um pouco\n",
      "E ver que o samba está tomando jeito\n",
      "Só mesmo embriagado ou muito louco\n",
      "Pra contestar e pra botar defeito\n",
      "Precisa ser muito sincero e claro\n",
      "Pra confessar que andei sambando errado\n",
      "Talvez precise até tomar na cara\n",
      "Pra ver que o samba está bem melhorado\n",
      "Tem mais é que ser bem cara de tacho\n",
      "Não ver a multidão sambar contente\n",
      "Isso me deixa triste e cabisbaixo\n",
      "Por isso eu fiz um samba bem pra frente\n",
      "Dizendo realmente o que é que eu acho\n",
      "Eu acho que o meu samba é uma corrente\n",
      "E coerentemente assino embaixo\n",
      "Hoje é preciso refletir um pouco\n",
      "E ver que o samba está tomando jeito\n",
      "Só mesmo embriagado ou muito louco\n",
      "Pra contestar e pra botar defeito\n",
      "Precisa ser muito sincero e claro\n",
      "Pra confessar que andei sambando errado\n",
      "Talvez precise até tomar na cara\n",
      "Pra ver que o samba está bem melhorado\n",
      "Tem mais é que ser bem cara de tacho\n",
      "Não ver a multidão sambar contente\n",
      "Isso me deixa triste e cabisbaixo\n"
     ]
    }
   ],
   "source": [
    "poema = \"Eu hoje fiz um samba bem pra frente / Dizendo realmente o que é que eu acho / Eu acho que o meu samba é uma corrente / E coerentemente assino embaixo / Hoje é preciso refletir um pouco / E ver que o samba está tomando jeito / Só mesmo embriagado ou muito louco / Pra contestar e pra botar defeito / Precisa ser muito sincero e claro / Pra confessar que andei sambando errado / Talvez precise até tomar na cara / Pra ver que o samba está bem melhorado / Tem mais é que ser bem cara de tacho / Não ver a multidão sambar contente / Isso me deixa triste e cabisbaixo / Por isso eu fiz um samba bem pra frente / Dizendo realmente o que é que eu acho / Eu acho que o meu samba é uma corrente / E coerentemente assino embaixo / Hoje é preciso refletir um pouco / E ver que o samba está tomando jeito / Só mesmo embriagado ou muito louco / Pra contestar e pra botar defeito / Precisa ser muito sincero e claro / Pra confessar que andei sambando errado / Talvez precise até tomar na cara / Pra ver que o samba está bem melhorado / Tem mais é que ser bem cara de tacho / Não ver a multidão sambar contente / Isso me deixa triste e cabisbaixo\"\n",
    "\n",
    "poemaList = poema.split(\" / \")\n",
    "\n",
    "for i in range(len(poemaList)):\n",
    "    print(poemaList[i])\n"
   ],
   "metadata": {
    "collapsed": false,
    "ExecuteTime": {
     "end_time": "2024-02-29T18:05:26.416936Z",
     "start_time": "2024-02-29T18:05:26.408479Z"
    }
   },
   "id": "b15c1857e29e8cee",
   "execution_count": 1
  },
  {
   "cell_type": "code",
   "outputs": [
    {
     "name": "stdout",
     "output_type": "stream",
     "text": [
      "Dizendo realmente o que é que eu acho\n",
      "Isso me deixa triste e cabisbaixo\n"
     ]
    }
   ],
   "source": [
    "poemaList.extend((\"Por isso eu fiz um samba bem pra frente\", \"Dizendo realmente o que é que eu acho\",\n",
    "                      \"Isso me deixa triste e cabisbaixo\"))\n",
    "print(poemaList[-2])\n",
    "print(poemaList[-1])"
   ],
   "metadata": {
    "collapsed": false,
    "ExecuteTime": {
     "end_time": "2024-02-29T18:05:26.423126Z",
     "start_time": "2024-02-29T18:05:26.417945Z"
    }
   },
   "id": "6927c1b5455ad7ce",
   "execution_count": 2
  },
  {
   "cell_type": "code",
   "outputs": [
    {
     "name": "stdout",
     "output_type": "stream",
     "text": [
      "O poema contem a palavra samba =  9\n"
     ]
    }
   ],
   "source": [
    "a = 0\n",
    "for j in range(len(poemaList)):\n",
    "     if \" samba \" in poemaList[j].lower():\n",
    "            a += 1\n",
    "            \n",
    "print(\"O poema contem a palavra samba = \", a)"
   ],
   "metadata": {
    "collapsed": false,
    "ExecuteTime": {
     "end_time": "2024-02-29T18:05:26.429642Z",
     "start_time": "2024-02-29T18:05:26.424137Z"
    }
   },
   "id": "8f2b8ace82987dcf",
   "execution_count": 3
  },
  {
   "cell_type": "code",
   "outputs": [
    {
     "name": "stdout",
     "output_type": "stream",
     "text": [
      "O poema contem vogais =  33\n"
     ]
    }
   ],
   "source": [
    "b = 0\n",
    "for w in range(len(poemaList)):\n",
    "        if \"a\" or \"e\" or \"i\" or \"o\" or \"u\" in poemaList[w].lower():\n",
    "            b += 1\n",
    "            \n",
    "print(\"O poema contem vogais = \", b)"
   ],
   "metadata": {
    "collapsed": false,
    "ExecuteTime": {
     "end_time": "2024-02-29T18:05:26.435228Z",
     "start_time": "2024-02-29T18:05:26.431159Z"
    }
   },
   "id": "d392d34ea9c86642",
   "execution_count": 4
  },
  {
   "cell_type": "markdown",
   "source": [
    "Exercicio 3.2"
   ],
   "metadata": {
    "collapsed": false
   },
   "id": "d5bd2b34c7b79ce1"
  },
  {
   "cell_type": "code",
   "outputs": [
    {
     "name": "stdout",
     "output_type": "stream",
     "text": [
      "Notas do semestre passado: {'PCD': 19, 'AA': 17, 'AR': 16, 'PI': 18}\n",
      "Notas do semestre atual: {'DIAM': 17, 'PISID': 12, 'IPM': 15, 'ES': 15}\n",
      "Notas do ano letivo: {'PCD': 19, 'AA': 17, 'AR': 16, 'PI': 18, 'DIAM': 17, 'PISID': 12, 'IPM': 15, 'ES': 15}\n",
      "Lista de disciplinas: ['PCD', 'AA', 'AR', 'PI', 'DIAM', 'PISID', 'IPM', 'ES']\n",
      "Lista de notas: [19, 17, 16, 18, 17, 12, 15, 15]\n",
      "Dicionário ordenado por disciplinas: {'AA': 17, 'AR': 16, 'DIAM': 17, 'ES': 15, 'IPM': 15, 'PCD': 19, 'PI': 18, 'PISID': 12}\n"
     ]
    }
   ],
   "source": [
    "# a) Criar os dois dicionários\n",
    "notas_semestre_passado = { 'PCD': 19, 'AA': 17, 'AR': 16, 'PI': 18 }\n",
    "notas_semestre_atual = { 'DIAM': 17, 'PISID': 12, 'IPM': 15, 'ES': 15 }\n",
    "\n",
    "print(\"Notas do semestre passado:\", notas_semestre_passado)\n",
    "print(\"Notas do semestre atual:\", notas_semestre_atual)\n",
    "\n",
    "# b) Concatenar os dicionários\n",
    "notas_ano_letivo = {**notas_semestre_passado, **notas_semestre_atual}\n",
    "print(\"Notas do ano letivo:\", notas_ano_letivo)\n",
    "\n",
    "# c) Mostrar apenas as chaves do dicionário\n",
    "chaves_disciplinas = list(notas_ano_letivo.keys())\n",
    "print(\"Lista de disciplinas:\", chaves_disciplinas)\n",
    "\n",
    "# d) Mostrar apenas os valores do dicionário\n",
    "notas = list(notas_ano_letivo.values())\n",
    "print(\"Lista de notas:\", notas)\n",
    "\n",
    "# e) Ordenar o dicionário por ordem alfabética das disciplinas\n",
    "notas_ano_letivo_ordenado = dict(sorted(notas_ano_letivo.items()))\n",
    "print(\"Dicionário ordenado por disciplinas:\", notas_ano_letivo_ordenado)\n"
   ],
   "metadata": {
    "collapsed": false,
    "ExecuteTime": {
     "end_time": "2024-02-29T18:05:26.501265Z",
     "start_time": "2024-02-29T18:05:26.495908Z"
    }
   },
   "id": "6138447e7bb1d2c",
   "execution_count": 5
  },
  {
   "cell_type": "code",
   "outputs": [],
   "source": [
    "# f) Função para verificar se existe uma disciplina\n",
    "def disciplinas_de_ano_letivo_nota_superior(X):\n",
    "   if notas_ano_letivo.keys().__contains__(X):\n",
    "       print(\"Existencia de ano letivo\")\n",
    "   else:\n",
    "       print(\"Não existencia de ano letivo\")\n",
    "    "
   ],
   "metadata": {
    "collapsed": false,
    "ExecuteTime": {
     "end_time": "2024-02-29T18:05:26.550919Z",
     "start_time": "2024-02-29T18:05:26.547407Z"
    }
   },
   "id": "e2209449ee66ab3c",
   "execution_count": 6
  },
  {
   "cell_type": "code",
   "outputs": [
    {
     "name": "stdout",
     "output_type": "stream",
     "text": [
      "Não existencia de ano letivo\n"
     ]
    }
   ],
   "source": [
    "disciplinas_de_ano_letivo_nota_superior('DIA')"
   ],
   "metadata": {
    "collapsed": false,
    "ExecuteTime": {
     "end_time": "2024-02-29T18:05:26.654809Z",
     "start_time": "2024-02-29T18:05:26.650501Z"
    }
   },
   "id": "e4f6aad590df3a02",
   "execution_count": 7
  },
  {
   "cell_type": "code",
   "outputs": [],
   "source": [
    "# g) Função para apresentar disciplinas com nota superior a um valor\n",
    "def existencia_de_ano_letivo_nota_superior(X):  \n",
    "    for disciplina, nota in notas_ano_letivo.items():\n",
    "        if nota > X:\n",
    "            print(f\"{disciplina}: {nota}\")"
   ],
   "metadata": {
    "collapsed": false,
    "ExecuteTime": {
     "end_time": "2024-02-29T18:05:26.732372Z",
     "start_time": "2024-02-29T18:05:26.728772Z"
    }
   },
   "id": "6166c4e4ba491f7",
   "execution_count": 8
  },
  {
   "cell_type": "code",
   "outputs": [
    {
     "name": "stdout",
     "output_type": "stream",
     "text": [
      "PCD: 19\n",
      "AA: 17\n",
      "AR: 16\n",
      "PI: 18\n",
      "DIAM: 17\n"
     ]
    }
   ],
   "source": [
    "existencia_de_ano_letivo_nota_superior(15)"
   ],
   "metadata": {
    "collapsed": false,
    "ExecuteTime": {
     "end_time": "2024-02-29T18:05:26.788935Z",
     "start_time": "2024-02-29T18:05:26.784656Z"
    }
   },
   "id": "86da034c8a6750ab",
   "execution_count": 9
  },
  {
   "cell_type": "code",
   "outputs": [],
   "source": [
    "# e) Função para apresentar a media do ano letivo\n",
    "def media_ano_letivo():\n",
    "    media = 0\n",
    "    for disciplina, nota in notas_ano_letivo.items():\n",
    "        media += nota\n",
    "\n",
    "    media = media/len(notas_ano_letivo)\n",
    "    \n",
    "    print(\"Media de ano letivo= \", media)\n"
   ],
   "metadata": {
    "collapsed": false,
    "ExecuteTime": {
     "end_time": "2024-02-29T18:05:26.810271Z",
     "start_time": "2024-02-29T18:05:26.806198Z"
    }
   },
   "id": "464a2dafc04f06a6",
   "execution_count": 10
  },
  {
   "cell_type": "code",
   "outputs": [
    {
     "name": "stdout",
     "output_type": "stream",
     "text": [
      "Media de ano letivo=  16.125\n"
     ]
    }
   ],
   "source": [
    "media_ano_letivo()"
   ],
   "metadata": {
    "collapsed": false,
    "ExecuteTime": {
     "end_time": "2024-02-29T18:05:26.831517Z",
     "start_time": "2024-02-29T18:05:26.827421Z"
    }
   },
   "id": "4c1384947f76b3b2",
   "execution_count": 11
  },
  {
   "cell_type": "code",
   "outputs": [],
   "source": [
    "def melhores_notas_3_ano_letivo():\n",
    "    notas_ano_letivo_ordenado_por_notas = dict(sorted(notas_ano_letivo.items(), key=lambda item: item[1], reverse=True))\n",
    "    melhores_notas = dict(list(notas_ano_letivo_ordenado_por_notas.items())[:3])\n",
    "\n",
    "    print(\"As 3 melhores notas:\", melhores_notas)"
   ],
   "metadata": {
    "collapsed": false,
    "ExecuteTime": {
     "end_time": "2024-02-29T18:05:26.868279Z",
     "start_time": "2024-02-29T18:05:26.863493Z"
    }
   },
   "id": "6f220ac31bc7c698",
   "execution_count": 12
  },
  {
   "cell_type": "code",
   "outputs": [
    {
     "name": "stdout",
     "output_type": "stream",
     "text": [
      "As 3 melhores notas: {'PCD': 19, 'PI': 18, 'AA': 17}\n"
     ]
    }
   ],
   "source": [
    "melhores_notas_3_ano_letivo()"
   ],
   "metadata": {
    "collapsed": false,
    "ExecuteTime": {
     "end_time": "2024-02-29T18:05:26.894930Z",
     "start_time": "2024-02-29T18:05:26.890395Z"
    }
   },
   "id": "9de36e651cd81273",
   "execution_count": 13
  },
  {
   "cell_type": "code",
   "outputs": [
    {
     "name": "stdout",
     "output_type": "stream",
     "text": [
      "The array after sorting in Ascending Order by selection sort is:\n",
      "[-202, -97, -9, -2, 0, 11, 45, 88, 747]\n"
     ]
    }
   ],
   "source": [
    "def selectionSort(array, size):\n",
    "    for x in range(size):\n",
    "        min_index = x\n",
    "        for j in range(x + 1, size):\n",
    "            if array[j] < array[min_index]:\n",
    "                min_index = j\n",
    "        # Swap the minimum element with the current index's element\n",
    "        valor = array[x]\n",
    "        array[x] = array[min_index]\n",
    "        array[min_index] = valor\n",
    "        \n",
    "\n",
    "# Example usage:\n",
    "arr = [-2, 45, 0, 11, -9, 88, -97, -202, 747]\n",
    "size = len(arr)\n",
    "selectionSort(arr, size)\n",
    "\n",
    "print(\"The array after sorting in Ascending Order by selection sort is:\")\n",
    "print(arr)"
   ],
   "metadata": {
    "collapsed": false,
    "ExecuteTime": {
     "end_time": "2024-02-29T18:10:36.522085Z",
     "start_time": "2024-02-29T18:10:36.516451Z"
    }
   },
   "id": "b41abd54e5598792",
   "execution_count": 20
  },
  {
   "cell_type": "code",
   "outputs": [
    {
     "name": "stdout",
     "output_type": "stream",
     "text": [
      "The array after sorting in Ascending Order by selection sort is:\n",
      "[-202, -97, -9, -2, 0, 11, 45, 88, 747]\n"
     ]
    }
   ],
   "source": [
    "def selectionSortMelhorado(array, size):\n",
    "    for ind in range(size):\n",
    "        min_index = ind\n",
    "        for j in range(ind + 1, size):\n",
    "            if array[j] < array[min_index]:\n",
    "                min_index = j\n",
    "        # Swap the minimum element with the current index's element\n",
    "        array[ind], array[min_index] = array[min_index], array[ind]\n",
    "\n",
    "# Example usage:\n",
    "arr = [-2, 45, 0, 11, -9, 88, -97, -202, 747]\n",
    "size = len(arr)\n",
    "selectionSortMelhorado(arr, size)\n",
    "\n",
    "print(\"The array after sorting in Ascending Order by selection sort is:\")\n",
    "print(arr)"
   ],
   "metadata": {
    "collapsed": false,
    "ExecuteTime": {
     "end_time": "2024-02-29T18:11:06.670352Z",
     "start_time": "2024-02-29T18:11:06.662653Z"
    }
   },
   "id": "8b4f7981b253fd",
   "execution_count": 21
  },
  {
   "cell_type": "code",
   "outputs": [],
   "source": [],
   "metadata": {
    "collapsed": false
   },
   "id": "c434080faa3df370"
  }
 ],
 "metadata": {
  "kernelspec": {
   "display_name": "Python 3",
   "language": "python",
   "name": "python3"
  },
  "language_info": {
   "codemirror_mode": {
    "name": "ipython",
    "version": 2
   },
   "file_extension": ".py",
   "mimetype": "text/x-python",
   "name": "python",
   "nbconvert_exporter": "python",
   "pygments_lexer": "ipython2",
   "version": "2.7.6"
  }
 },
 "nbformat": 4,
 "nbformat_minor": 5
}
