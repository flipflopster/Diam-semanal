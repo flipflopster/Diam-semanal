{
 "cells": [
  {
   "cell_type": "markdown",
   "source": [
    "## Strings e Listas"
   ],
   "metadata": {
    "collapsed": false
   }
  },
  {
   "cell_type": "code",
   "execution_count": 2,
   "outputs": [],
   "source": [
    "poem = 'Eu hoje fiz um samba bem pra frente / Dizendo realmente o que é que eu acho / Eu acho que o meu samba é uma corrente / E coerentemente assino embaixo / Hoje é preciso refletir um pouco / E ver que o samba está tomando jeito / Só mesmo embriagado ou muito louco / Pra contestar e pra botar defeito / Precisa ser muito sincero e claro / Pra confessar que andei sambando errado / Talvez precise até tomar na cara / Pra ver que o samba está bem melhorado / Tem mais é que ser bem cara de tacho / Não ver a multidão sambar contente / Isso me deixa triste e cabisbaixo / Por isso eu fiz um samba bem pra frente / Dizendo realmente o que é que eu acho / Eu acho que o meu samba é uma corrente / E coerentemente assino embaixo / Hoje é preciso refletir um pouco / E ver que o samba está tomando jeito / Só mesmo embriagado ou muito louco / Pra contestar e pra botar defeito / Precisa ser muito sincero e claro / Pra confessar que andei sambando errado / Talvez precise até tomar na cara / Pra ver que o samba está bem melhorado / Tem mais é que ser bem cara de tacho / Não ver a multidão sambar contente / Isso me deixa triste e cabisbaixo'"
   ],
   "metadata": {
    "collapsed": false
   }
  },
  {
   "cell_type": "markdown",
   "source": [
    "### A"
   ],
   "metadata": {
    "collapsed": false
   }
  },
  {
   "cell_type": "code",
   "execution_count": 3,
   "outputs": [
    {
     "name": "stdout",
     "output_type": "stream",
     "text": [
      "Eu hoje fiz um samba bem pra frente \n",
      " Dizendo realmente o que é que eu acho \n",
      " Eu acho que o meu samba é uma corrente \n",
      " E coerentemente assino embaixo \n",
      " Hoje é preciso refletir um pouco \n",
      " E ver que o samba está tomando jeito \n",
      " Só mesmo embriagado ou muito louco \n",
      " Pra contestar e pra botar defeito \n",
      " Precisa ser muito sincero e claro \n",
      " Pra confessar que andei sambando errado \n",
      " Talvez precise até tomar na cara \n",
      " Pra ver que o samba está bem melhorado \n",
      " Tem mais é que ser bem cara de tacho \n",
      " Não ver a multidão sambar contente \n",
      " Isso me deixa triste e cabisbaixo \n",
      " Por isso eu fiz um samba bem pra frente \n",
      " Dizendo realmente o que é que eu acho \n",
      " Eu acho que o meu samba é uma corrente \n",
      " E coerentemente assino embaixo \n",
      " Hoje é preciso refletir um pouco \n",
      " E ver que o samba está tomando jeito \n",
      " Só mesmo embriagado ou muito louco \n",
      " Pra contestar e pra botar defeito \n",
      " Precisa ser muito sincero e claro \n",
      " Pra confessar que andei sambando errado \n",
      " Talvez precise até tomar na cara \n",
      " Pra ver que o samba está bem melhorado \n",
      " Tem mais é que ser bem cara de tacho \n",
      " Não ver a multidão sambar contente \n",
      " Isso me deixa triste e cabisbaixo\n"
     ]
    }
   ],
   "source": [
    "def printPoem(po):\n",
    "    for p in po.split('/'): print(p)\n",
    "\n",
    "printPoem(poem)"
   ],
   "metadata": {
    "collapsed": false
   }
  },
  {
   "cell_type": "markdown",
   "source": [
    "### B"
   ],
   "metadata": {
    "collapsed": false
   }
  },
  {
   "cell_type": "code",
   "execution_count": 4,
   "outputs": [
    {
     "name": "stdout",
     "output_type": "stream",
     "text": [
      "Eu hoje fiz um samba bem pra frente \n",
      " Dizendo realmente o que é que eu acho \n",
      " Eu acho que o meu samba é uma corrente \n",
      " E coerentemente assino embaixo \n",
      " Hoje é preciso refletir um pouco \n",
      " E ver que o samba está tomando jeito \n",
      " Só mesmo embriagado ou muito louco \n",
      " Pra contestar e pra botar defeito \n",
      " Precisa ser muito sincero e claro \n",
      " Pra confessar que andei sambando errado \n",
      " Talvez precise até tomar na cara \n",
      " Pra ver que o samba está bem melhorado \n",
      " Tem mais é que ser bem cara de tacho \n",
      " Não ver a multidão sambar contente \n",
      " Isso me deixa triste e cabisbaixo \n",
      " Por isso eu fiz um samba bem pra frente \n",
      " Dizendo realmente o que é que eu acho \n",
      " Eu acho que o meu samba é uma corrente \n",
      " E coerentemente assino embaixo \n",
      " Hoje é preciso refletir um pouco \n",
      " E ver que o samba está tomando jeito \n",
      " Só mesmo embriagado ou muito louco \n",
      " Pra contestar e pra botar defeito \n",
      " Precisa ser muito sincero e claro \n",
      " Pra confessar que andei sambando errado \n",
      " Talvez precise até tomar na cara \n",
      " Pra ver que o samba está bem melhorado \n",
      " Tem mais é que ser bem cara de tacho \n",
      " Não ver a multidão sambar contente \n",
      " Isso me deixa triste e cabisbaixo \n",
      " Por isso eu fiz um samba bem pra frente \n",
      " Dizendo realmente o que é que eu acho \n",
      " Isso me deixa triste e cabisbaixo\n"
     ]
    }
   ],
   "source": [
    "def addLines(po, lst):\n",
    "    np = po\n",
    "    for l in lst: np = np + ' / ' + l\n",
    "    return np\n",
    "\n",
    "nLines = ['Por isso eu fiz um samba bem pra frente', 'Dizendo realmente o que é que eu acho', 'Isso me deixa triste e cabisbaixo']\n",
    "\n",
    "newPoem = addLines(poem, nLines)\n",
    "printPoem(newPoem)"
   ],
   "metadata": {
    "collapsed": false
   }
  },
  {
   "cell_type": "markdown",
   "source": [
    "### C"
   ],
   "metadata": {
    "collapsed": false
   }
  },
  {
   "cell_type": "code",
   "execution_count": 5,
   "outputs": [
    {
     "name": "stdout",
     "output_type": "stream",
     "text": [
      " Dizendo realmente o que é que eu acho \n",
      " Isso me deixa triste e cabisbaixo\n"
     ]
    }
   ],
   "source": [
    "def lastTwoLines(po):\n",
    "    for i in [-2, -1]: print(po.split('/')[i])\n",
    "\n",
    "lastTwoLines(newPoem)"
   ],
   "metadata": {
    "collapsed": false
   }
  },
  {
   "cell_type": "markdown",
   "source": [
    "### D"
   ],
   "metadata": {
    "collapsed": false
   }
  },
  {
   "cell_type": "code",
   "execution_count": 6,
   "outputs": [
    {
     "name": "stdout",
     "output_type": "stream",
     "text": [
      "12 13\n"
     ]
    }
   ],
   "source": [
    "def wordOcurrencies(po, w = 'samba'):\n",
    "    c = 0\n",
    "    for p in po.split('/'):\n",
    "        if p.count(w) > 0:\n",
    "            c += 1\n",
    "    return c\n",
    "\n",
    "print(wordOcurrencies(poem), wordOcurrencies(newPoem))"
   ],
   "metadata": {
    "collapsed": false
   }
  },
  {
   "cell_type": "markdown",
   "source": [
    "### E"
   ],
   "metadata": {
    "collapsed": false
   }
  },
  {
   "cell_type": "code",
   "execution_count": 7,
   "outputs": [
    {
     "name": "stdout",
     "output_type": "stream",
     "text": [
      "Vowel a found: 104 times in poem.\n",
      "Vowel e found: 141 times in poem.\n",
      "Vowel i found: 50 times in poem.\n",
      "Vowel o found: 94 times in poem.\n",
      "Vowel u found: 45 times in poem.\n"
     ]
    }
   ],
   "source": [
    "def vowels(po):\n",
    "    for v in ['a', 'e' , 'i', 'o', 'u']:\n",
    "        print('Vowel ' + v + ' found: ' + str(po.count(v)) + ' times in poem.')\n",
    "\n",
    "vowels(newPoem)"
   ],
   "metadata": {
    "collapsed": false
   }
  },
  {
   "cell_type": "markdown",
   "source": [
    "## Dicionários"
   ],
   "metadata": {
    "collapsed": false
   }
  },
  {
   "cell_type": "markdown",
   "source": [
    "### A"
   ],
   "metadata": {
    "collapsed": false
   }
  },
  {
   "cell_type": "code",
   "execution_count": 48,
   "outputs": [
    {
     "name": "stdout",
     "output_type": "stream",
     "text": [
      "{'AA': 15, 'AR': 10, 'GPTSI': 0, 'PI': 16, 'PCD': 14} {'DECD': 20, 'DIAM': 20, 'ES': 20, 'IPM': 20, 'PISID': 20, 'PPM': 20}\n"
     ]
    }
   ],
   "source": [
    "notasL = {\n",
    "    'AA': 15,\n",
    "    'AR': 10,\n",
    "    'GPTSI': 0,\n",
    "    'PI': 16,\n",
    "    'PCD': 14\n",
    "}\n",
    "\n",
    "notasN = {\n",
    "    'DECD': 20,\n",
    "    'DIAM': 20,\n",
    "    'ES': 20,\n",
    "    'IPM': 20,\n",
    "    'PISID': 20,\n",
    "    'PPM': 20\n",
    "}\n",
    "\n",
    "print(notasL, notasN)"
   ],
   "metadata": {
    "collapsed": false
   }
  },
  {
   "cell_type": "markdown",
   "source": [
    "### B"
   ],
   "metadata": {
    "collapsed": false
   }
  },
  {
   "cell_type": "code",
   "execution_count": 49,
   "outputs": [
    {
     "name": "stdout",
     "output_type": "stream",
     "text": [
      "{'AA': 15, 'AR': 10, 'GPTSI': 0, 'PI': 16, 'PCD': 14, 'DECD': 20, 'DIAM': 20, 'ES': 20, 'IPM': 20, 'PISID': 20, 'PPM': 20}\n"
     ]
    }
   ],
   "source": [
    "def concatDic(a, b):\n",
    "    l = {}\n",
    "    l.update(a)\n",
    "    l.update(b)\n",
    "    return l\n",
    "\n",
    "notas = concatDic(notasL, notasN)\n",
    "print(notas)"
   ],
   "metadata": {
    "collapsed": false
   }
  },
  {
   "cell_type": "markdown",
   "source": [
    "### C & D"
   ],
   "metadata": {
    "collapsed": false
   }
  },
  {
   "cell_type": "code",
   "execution_count": 50,
   "outputs": [
    {
     "data": {
      "text/plain": "['AA', 'AR', 'GPTSI', 'PI', 'PCD', 'DECD', 'DIAM', 'ES', 'IPM', 'PISID', 'PPM']"
     },
     "execution_count": 50,
     "metadata": {},
     "output_type": "execute_result"
    }
   ],
   "source": [
    "list(notas.keys())"
   ],
   "metadata": {
    "collapsed": false
   }
  },
  {
   "cell_type": "code",
   "execution_count": 51,
   "outputs": [
    {
     "data": {
      "text/plain": "[15, 10, 0, 16, 14, 20, 20, 20, 20, 20, 20]"
     },
     "execution_count": 51,
     "metadata": {},
     "output_type": "execute_result"
    }
   ],
   "source": [
    "list(notas.values())"
   ],
   "metadata": {
    "collapsed": false
   }
  },
  {
   "cell_type": "markdown",
   "source": [
    "### E"
   ],
   "metadata": {
    "collapsed": false
   }
  },
  {
   "cell_type": "code",
   "execution_count": 52,
   "outputs": [
    {
     "name": "stdout",
     "output_type": "stream",
     "text": [
      "{'AA': 15, 'AR': 10, 'DECD': 20, 'DIAM': 20, 'ES': 20, 'GPTSI': 0, 'IPM': 20, 'PCD': 14, 'PI': 16, 'PISID': 20, 'PPM': 20}\n"
     ]
    }
   ],
   "source": [
    "sortNotas = {key: value for key, value in sorted(notas.items())}\n",
    "print(sortNotas)"
   ],
   "metadata": {
    "collapsed": false
   }
  },
  {
   "cell_type": "markdown",
   "source": [
    "### F"
   ],
   "metadata": {
    "collapsed": false
   }
  },
  {
   "cell_type": "code",
   "execution_count": 53,
   "outputs": [
    {
     "name": "stdout",
     "output_type": "stream",
     "text": [
      "Disciplina com o nome: DIAM, existe no dicionário.\n",
      "Disciplina com o nome: ABCDEFG, não existe no dicionário.\n"
     ]
    }
   ],
   "source": [
    "def isPresent (dict, d = 'DIAM'):\n",
    "    for di in list(notas.keys()):\n",
    "        if di == d:\n",
    "            print('Disciplina com o nome: ' + d + ', existe no dicionário.')\n",
    "            return\n",
    "    print('Disciplina com o nome: ' + d + ', não existe no dicionário.')\n",
    "\n",
    "isPresent(notas)\n",
    "isPresent(notas, 'ABCDEFG')"
   ],
   "metadata": {
    "collapsed": false
   }
  },
  {
   "cell_type": "markdown",
   "source": [
    "### G"
   ],
   "metadata": {
    "collapsed": false
   }
  },
  {
   "cell_type": "code",
   "execution_count": 55,
   "outputs": [
    {
     "name": "stdout",
     "output_type": "stream",
     "text": [
      "['AA', 'PI', 'DECD', 'DIAM', 'ES', 'IPM', 'PISID', 'PPM']\n",
      "['AA', 'PI', 'PCD', 'DECD', 'DIAM', 'ES', 'IPM', 'PISID', 'PPM']\n"
     ]
    }
   ],
   "source": [
    "def greaterThan(dict, n = 14):\n",
    "    l = []\n",
    "    for di in list(notas.keys()):\n",
    "        if dict.get(di) > n: l.append(di)\n",
    "    return l\n",
    "\n",
    "print(greaterThan(notas))\n",
    "print(greaterThan(notas, 10))"
   ],
   "metadata": {
    "collapsed": false
   }
  },
  {
   "cell_type": "markdown",
   "source": [
    "### H"
   ],
   "metadata": {
    "collapsed": false
   }
  },
  {
   "cell_type": "code",
   "execution_count": 57,
   "outputs": [
    {
     "name": "stdout",
     "output_type": "stream",
     "text": [
      "15.909090909090908\n"
     ]
    }
   ],
   "source": [
    "def avg(dict):\n",
    "    l = []\n",
    "    for n in list(notas.values()): l.append(n)\n",
    "    return sum(l)/len(l)\n",
    "\n",
    "print(avg(notas))"
   ],
   "metadata": {
    "collapsed": false
   }
  },
  {
   "cell_type": "markdown",
   "source": [
    "### I"
   ],
   "metadata": {
    "collapsed": false
   }
  },
  {
   "cell_type": "code",
   "execution_count": 60,
   "outputs": [
    {
     "name": "stdout",
     "output_type": "stream",
     "text": [
      "['IPM', 'PISID', 'PPM']\n"
     ]
    }
   ],
   "source": [
    "def top(di):\n",
    "    l = []\n",
    "    sd = list((dict(sorted(di.items(), key=lambda item: item[1]))).keys())\n",
    "    for i in [-3, -2, -1]:\n",
    "        l.append(sd[i])\n",
    "    return l\n",
    "\n",
    "print(top(notas))"
   ],
   "metadata": {
    "collapsed": false
   }
  },
  {
   "cell_type": "markdown",
   "source": [
    "## Listas & Estruturas de Controlo"
   ],
   "metadata": {
    "collapsed": false
   }
  },
  {
   "cell_type": "markdown",
   "source": [
    "### A"
   ],
   "metadata": {
    "collapsed": false
   }
  },
  {
   "cell_type": "code",
   "execution_count": 3,
   "outputs": [
    {
     "name": "stdout",
     "output_type": "stream",
     "text": [
      "[1, 2, 3, 4, 5, 5, 6, 7, 8, 9]\n"
     ]
    }
   ],
   "source": [
    "def selectionSort(arr):\n",
    "    n = len(arr)\n",
    "    for i in range(n):\n",
    "        min = i\n",
    "        for j in range(i + 1, n):\n",
    "            if arr[j] < arr[min]: min = j\n",
    "        temp = arr[i]\n",
    "        arr[i] = arr[min]\n",
    "        arr[min] = temp\n",
    "    return arr\n",
    "\n",
    "array = [9,8,7,6,5,4,3,2,1,5]\n",
    "selectionSort(array)\n",
    "print(array)"
   ],
   "metadata": {
    "collapsed": false
   }
  },
  {
   "cell_type": "markdown",
   "source": [
    "### B"
   ],
   "metadata": {
    "collapsed": false
   }
  },
  {
   "cell_type": "code",
   "execution_count": 4,
   "outputs": [
    {
     "name": "stdout",
     "output_type": "stream",
     "text": [
      "[1, 2, 3, 4, 5, 5, 6, 7, 8, 9]\n"
     ]
    }
   ],
   "source": [
    "def selectionSort(arr):\n",
    "    n = len(arr)\n",
    "    for i in range(n):\n",
    "        min = i\n",
    "        for j in range(i + 1, n):\n",
    "            if arr[j] < arr[min]: min = j\n",
    "        arr[i], arr[min] = arr[min], arr[i]\n",
    "    return arr\n",
    "\n",
    "array = [9,8,7,6,5,4,3,2,1,5]\n",
    "selectionSort(array)\n",
    "print(array)"
   ],
   "metadata": {
    "collapsed": false
   }
  },
  {
   "cell_type": "markdown",
   "source": [
    "## Estruturas de Controlo"
   ],
   "metadata": {
    "collapsed": false
   }
  },
  {
   "cell_type": "markdown",
   "source": [
    "### A & B"
   ],
   "metadata": {
    "collapsed": false
   }
  },
  {
   "cell_type": "code",
   "execution_count": 1,
   "outputs": [
    {
     "name": "stdout",
     "output_type": "stream",
     "text": [
      "True False\n"
     ]
    }
   ],
   "source": [
    "word1, word2 = 'listen', 'silent'\n",
    "\n",
    "def methodI(w1, w2):\n",
    "    p = 0\n",
    "    waux1, waux2 = ''.join(w1.lower().split(' ')), ''.join(w2.lower().split(' '))\n",
    "    for c in waux1:\n",
    "        if waux2 == '':\n",
    "            return False, p\n",
    "        for i in range(len(waux2)):\n",
    "            if c == waux2[i]:\n",
    "                waux2 = waux2[0:i] + waux2[i+1:len(waux2)]\n",
    "                break\n",
    "            p += 1\n",
    "        p += 1\n",
    "    return waux2 == '', p\n",
    "\n",
    "print(methodI(word1, word2)[0], methodI('ai', 'op')[0])"
   ],
   "metadata": {
    "collapsed": false
   }
  },
  {
   "cell_type": "code",
   "execution_count": 2,
   "outputs": [
    {
     "name": "stdout",
     "output_type": "stream",
     "text": [
      "True False\n"
     ]
    }
   ],
   "source": [
    "def methodII(w1, w2):\n",
    "    p = 0\n",
    "    waux1, waux2 = ''.join(w1.lower().split(' ')), ''.join(w2.lower().split(' '))\n",
    "    return sorted(waux1) == sorted(waux2), p + 2\n",
    "\n",
    "print(methodII(word1, word2)[0], methodII('ai', 'op')[0])"
   ],
   "metadata": {
    "collapsed": false
   }
  },
  {
   "cell_type": "code",
   "execution_count": 3,
   "outputs": [
    {
     "name": "stdout",
     "output_type": "stream",
     "text": [
      "True False\n"
     ]
    }
   ],
   "source": [
    "def methodIII(w1, w2):\n",
    "    p = 0\n",
    "    waux1, waux2 = ''.join(w1.split(' ')), ''.join(w2.split(' '))\n",
    "    perm = permutations(waux1)\n",
    "    p += len(perm)\n",
    "    for pe in perm:\n",
    "        if waux2 == pe: return True, p + 1\n",
    "        p += 1\n",
    "    return False, p\n",
    "\n",
    "def permutations(str, step = 0):\n",
    "    r = []\n",
    "    if step == len(str):\n",
    "        r.append(\"\".join(str))\n",
    "    for i in range(step, len(str)):\n",
    "        strc = [character for character in str]\n",
    "        strc[step], strc[i] = strc[i], strc[step]\n",
    "        for p in permutations(strc, step + 1):\n",
    "            r.append(p)\n",
    "    return r\n",
    "\n",
    "print(methodIII(word1, word2)[0], methodIII('ai', 'op')[0])"
   ],
   "metadata": {
    "collapsed": false
   }
  },
  {
   "cell_type": "code",
   "execution_count": 4,
   "outputs": [
    {
     "name": "stdout",
     "output_type": "stream",
     "text": [
      "True False\n"
     ]
    }
   ],
   "source": [
    "def methodIV(w1, w2):\n",
    "    p = 0\n",
    "    waux1, waux2 = ''.join(w1.lower().split(' ')), ''.join(w2.lower().split(' '))\n",
    "    alphabet = ['a', 'b', 'c', 'd', 'e', 'f', 'g', 'h', 'i', 'j', 'k', 'l', 'm', 'n', 'o', 'p', 'q', 'r', 's', 't', 'u', 'v', 'w', 'x', 'y', 'z']\n",
    "    for a in range(len(alphabet)):\n",
    "        waux1, waux2 = waux1.split(alphabet[a]), waux2.split(alphabet[a])\n",
    "        p += 2\n",
    "        if len(waux1) != len(waux2): return False, p\n",
    "        waux1, waux2 = ''.join(waux1), ''.join(waux2)\n",
    "    return True, p\n",
    "\n",
    "print(methodIV(word1, word2)[0], methodIV('ai', 'op')[0])"
   ],
   "metadata": {
    "collapsed": false
   }
  },
  {
   "cell_type": "markdown",
   "source": [
    "### B"
   ],
   "metadata": {
    "collapsed": false
   }
  },
  {
   "cell_type": "code",
   "execution_count": 16,
   "outputs": [
    {
     "name": "stdout",
     "output_type": "stream",
     "text": [
      "Função-  <function methodI at 0x0000023EEB429760>  realizou  19  passos em  0.28757429122924805  segundos.\n",
      "Função-  <function methodII at 0x0000023EEB429C60>  realizou  2  passos em  0.6999986171722412  segundos.\n",
      "Função-  <function methodIII at 0x0000023EEB42A160>  realizou  61339  passos em  0.6025538444519043  segundos.\n",
      "Função-  <function methodIV at 0x0000023EEB87CF40>  realizou  52  passos em  0.24861860275268555  segundos.\n"
     ]
    }
   ],
   "source": [
    "import time\n",
    "import random as ra\n",
    "\n",
    "funarr, rarr = [methodI, methodII, methodIII, methodIV], []\n",
    "\n",
    "for i in range(len(funarr)):\n",
    "    rarr.append([])\n",
    "    start = time.time()\n",
    "    p = permutations('DIAMDIAM')\n",
    "    w1, w2 = p[int(ra.random() * len(p))], p[int(ra.random() * len(p))]\n",
    "    rarr[i].append(funarr[i](w1, w2)[1])\n",
    "    end = time.time()\n",
    "    rarr[i].append(end - start)\n",
    "\n",
    "for i in range(len(rarr)):\n",
    "    print(\"Função- \" , funarr[i], \" realizou \" , rarr[i][0], \" passos em \" , rarr[i][1], \" segundos.\")"
   ],
   "metadata": {
    "collapsed": false
   }
  },
  {
   "cell_type": "code",
   "execution_count": null,
   "outputs": [],
   "source": [],
   "metadata": {
    "collapsed": false
   }
  }
 ],
 "metadata": {
  "kernelspec": {
   "display_name": "Python 3",
   "language": "python",
   "name": "python3"
  },
  "language_info": {
   "codemirror_mode": {
    "name": "ipython",
    "version": 2
   },
   "file_extension": ".py",
   "mimetype": "text/x-python",
   "name": "python",
   "nbconvert_exporter": "python",
   "pygments_lexer": "ipython2",
   "version": "2.7.6"
  }
 },
 "nbformat": 4,
 "nbformat_minor": 0
}
