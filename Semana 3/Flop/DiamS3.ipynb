{
 "cells": [
  {
   "cell_type": "markdown",
   "source": [
    "# Exercicios Semana 3"
   ],
   "metadata": {
    "collapsed": false
   }
  },
  {
   "cell_type": "markdown",
   "source": [
    "## 3.1 Strings e listas\n"
   ],
   "metadata": {
    "collapsed": false
   }
  },
  {
   "cell_type": "markdown",
   "source": [
    "\n",
    "Considere o poema “Corrente”, de Chico Buarque:\n"
   ],
   "metadata": {
    "collapsed": false
   }
  },
  {
   "cell_type": "code",
   "execution_count": 1,
   "outputs": [],
   "source": [
    "poema = \"Eu hoje fiz um samba bem pra frente / Dizendo realmente o que é que eu acho / Eu acho que o meu samba é uma corrente / E coerentemente assino embaixo / Hoje é preciso refletir um pouco / E ver que o samba está tomando jeito / Só mesmo embriagado ou muito louco / Pra contestar e pra botar defeito / Precisa ser muito sincero e claro / Pra confessar que andei sambando errado / Talvez precise até tomar na cara / Pra ver que o samba está bem melhorado / Tem mais é que ser bem cara de tacho / Não ver a multidão sambar contente / Isso me deixa triste e cabisbaixo / Por isso eu fiz um samba bem pra frente / Dizendo realmente o que é que eu acho / Eu acho que o meu samba é uma corrente / E coerentemente assino embaixo / Hoje é preciso refletir um pouco / E ver que o samba está tomando jeito / Só mesmo embriagado ou muito louco / Pra contestar e pra botar defeito / Precisa ser muito sincero e claro / Pra confessar que andei sambando errado / Talvez precise até tomar na cara / Pra ver que o samba está bem melhorado / Tem mais é que ser bem cara de tacho / Não ver a multidão sambar contente / Isso me deixa triste e cabisbaixo\""
   ],
   "metadata": {
    "collapsed": false
   }
  },
  {
   "cell_type": "markdown",
   "source": [
    "a) Transforme a string “poema” numa lista de versos e imprima na consola o poema formatado\n",
    "da seguinte forma:\n",
    "\n",
    "***Eu hoje fiz um samba bem pra frente\n",
    "Dizendo realmente o que é que eu achos\n",
    "Eu acho que o meu samba é uma corrente***\n",
    "…\n",
    "\n",
    "Dica: repare que os vários versos do poema estão separados sempre da mesma forma..."
   ],
   "metadata": {
    "collapsed": false
   }
  },
  {
   "cell_type": "code",
   "execution_count": 4,
   "outputs": [
    {
     "name": "stdout",
     "output_type": "stream",
     "text": [
      "Eu hoje fiz um samba bem pra frente\n",
      "Dizendo realmente o que é que eu acho\n",
      "Eu acho que o meu samba é uma corrente\n",
      "E coerentemente assino embaixo\n",
      "Hoje é preciso refletir um pouco\n",
      "E ver que o samba está tomando jeito\n",
      "Só mesmo embriagado ou muito louco\n",
      "Pra contestar e pra botar defeito\n",
      "Precisa ser muito sincero e claro\n",
      "Pra confessar que andei sambando errado\n",
      "Talvez precise até tomar na cara\n",
      "Pra ver que o samba está bem melhorado\n",
      "Tem mais é que ser bem cara de tacho\n",
      "Não ver a multidão sambar contente\n",
      "Isso me deixa triste e cabisbaixo\n",
      "Por isso eu fiz um samba bem pra frente\n",
      "Dizendo realmente o que é que eu acho\n",
      "Eu acho que o meu samba é uma corrente\n",
      "E coerentemente assino embaixo\n",
      "Hoje é preciso refletir um pouco\n",
      "E ver que o samba está tomando jeito\n",
      "Só mesmo embriagado ou muito louco\n",
      "Pra contestar e pra botar defeito\n",
      "Precisa ser muito sincero e claro\n",
      "Pra confessar que andei sambando errado\n",
      "Talvez precise até tomar na cara\n",
      "Pra ver que o samba está bem melhorado\n",
      "Tem mais é que ser bem cara de tacho\n",
      "Não ver a multidão sambar contente\n",
      "Isso me deixa triste e cabisbaixo\n"
     ]
    }
   ],
   "source": [
    "estrofe = poema.split(\" / \")\n",
    "for i in estrofe:\n",
    "    print(i)\n"
   ],
   "metadata": {
    "collapsed": false
   }
  },
  {
   "cell_type": "markdown",
   "source": [
    "b) Complete o poema juntando-lhe os seguintes versos ao final:\n",
    "\n",
    "***Por isso eu fiz um samba bem pra frente\n",
    "Dizendo realmente o que é que eu acho\n",
    "Isso me deixa triste e cabisbaixo***"
   ],
   "metadata": {
    "collapsed": false
   }
  },
  {
   "cell_type": "code",
   "execution_count": 8,
   "outputs": [
    {
     "name": "stdout",
     "output_type": "stream",
     "text": [
      "Eu hoje fiz um samba bem pra frente\n",
      "Dizendo realmente o que é que eu acho\n",
      "Eu acho que o meu samba é uma corrente\n",
      "E coerentemente assino embaixo\n",
      "Hoje é preciso refletir um pouco\n",
      "E ver que o samba está tomando jeito\n",
      "Só mesmo embriagado ou muito louco\n",
      "Pra contestar e pra botar defeito\n",
      "Precisa ser muito sincero e claro\n",
      "Pra confessar que andei sambando errado\n",
      "Talvez precise até tomar na cara\n",
      "Pra ver que o samba está bem melhorado\n",
      "Tem mais é que ser bem cara de tacho\n",
      "Não ver a multidão sambar contente\n",
      "Isso me deixa triste e cabisbaixo\n",
      "Por isso eu fiz um samba bem pra frente\n",
      "Dizendo realmente o que é que eu acho\n",
      "Eu acho que o meu samba é uma corrente\n",
      "E coerentemente assino embaixo\n",
      "Hoje é preciso refletir um pouco\n",
      "E ver que o samba está tomando jeito\n",
      "Só mesmo embriagado ou muito louco\n",
      "Pra contestar e pra botar defeito\n",
      "Precisa ser muito sincero e claro\n",
      "Pra confessar que andei sambando errado\n",
      "Talvez precise até tomar na cara\n",
      "Pra ver que o samba está bem melhorado\n",
      "Tem mais é que ser bem cara de tacho\n",
      "Não ver a multidão sambar contente\n",
      "Isso me deixa triste e cabisbaixo\n",
      "Por isso eu fiz um samba bem pra frente \n",
      "Dizendo realmente o que é que eu acho \n",
      "Isso me deixa triste e cabisbaixo\n"
     ]
    }
   ],
   "source": [
    "estrofe = poema.split(\" / \")\n",
    "estrofe.append(\"Por isso eu fiz um samba bem pra frente \")\n",
    "estrofe.append(\"Dizendo realmente o que é que eu acho \")\n",
    "estrofe.append(\"Isso me deixa triste e cabisbaixo\")\n",
    "for i in estrofe:\n",
    "    print(i)\n"
   ],
   "metadata": {
    "collapsed": false
   }
  },
  {
   "cell_type": "markdown",
   "source": [
    "c) Imprima na consola apenas os dois últimos versos do poema na sua forma final, depois das\n",
    "alíneas a) e b)."
   ],
   "metadata": {
    "collapsed": false
   }
  },
  {
   "cell_type": "code",
   "execution_count": 10,
   "outputs": [
    {
     "name": "stdout",
     "output_type": "stream",
     "text": [
      "['Dizendo realmente o que é que eu acho ', 'Isso me deixa triste e cabisbaixo']\n"
     ]
    }
   ],
   "source": [
    "print(estrofe[-2:])"
   ],
   "metadata": {
    "collapsed": false
   }
  },
  {
   "cell_type": "markdown",
   "source": [
    "d) Desenvolva código para calcular e mostrar na consola o número de versos em que está presente\n",
    "a palavra “samba”."
   ],
   "metadata": {
    "collapsed": false
   }
  },
  {
   "cell_type": "code",
   "execution_count": null,
   "outputs": [],
   "source": [
    "for verso in estrofe"
   ],
   "metadata": {
    "collapsed": false
   }
  },
  {
   "cell_type": "markdown",
   "source": [
    "e) Desenvolva código para calcular e mostrar o número de vezes em que aparece cada uma das\n",
    "vogais ao longo do poema completo."
   ],
   "metadata": {
    "collapsed": false
   }
  },
  {
   "cell_type": "code",
   "execution_count": null,
   "outputs": [],
   "source": [],
   "metadata": {
    "collapsed": false
   }
  }
 ],
 "metadata": {
  "kernelspec": {
   "display_name": "Python 3",
   "language": "python",
   "name": "python3"
  },
  "language_info": {
   "codemirror_mode": {
    "name": "ipython",
    "version": 2
   },
   "file_extension": ".py",
   "mimetype": "text/x-python",
   "name": "python",
   "nbconvert_exporter": "python",
   "pygments_lexer": "ipython2",
   "version": "2.7.6"
  }
 },
 "nbformat": 4,
 "nbformat_minor": 0
}
